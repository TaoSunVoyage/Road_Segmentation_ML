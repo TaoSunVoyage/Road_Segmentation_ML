{
  "nbformat": 4,
  "nbformat_minor": 0,
  "metadata": {
    "colab": {
      "name": "U-Net_3.ipynb",
      "version": "0.3.2",
      "provenance": [],
      "collapsed_sections": [],
      "toc_visible": true
    },
    "kernelspec": {
      "name": "python3",
      "display_name": "Python 3"
    },
    "accelerator": "GPU"
  },
  "cells": [
    {
      "metadata": {
        "id": "1bgDY-_4fSH8",
        "colab_type": "code",
        "outputId": "0c588090-fcf0-4245-8a58-7db837661025",
        "colab": {
          "base_uri": "https://localhost:8080/",
          "height": 122
        }
      },
      "cell_type": "code",
      "source": [
        "from google.colab import drive\n",
        "drive.mount(\"/content/drive\")"
      ],
      "execution_count": 0,
      "outputs": [
        {
          "output_type": "stream",
          "text": [
            "Go to this URL in a browser: https://accounts.google.com/o/oauth2/auth?client_id=947318989803-6bn6qk8qdgf4n4g3pfee6491hc0brc4i.apps.googleusercontent.com&redirect_uri=urn%3Aietf%3Awg%3Aoauth%3A2.0%3Aoob&scope=email%20https%3A%2F%2Fwww.googleapis.com%2Fauth%2Fdocs.test%20https%3A%2F%2Fwww.googleapis.com%2Fauth%2Fdrive%20https%3A%2F%2Fwww.googleapis.com%2Fauth%2Fdrive.photos.readonly%20https%3A%2F%2Fwww.googleapis.com%2Fauth%2Fpeopleapi.readonly&response_type=code\n",
            "\n",
            "Enter your authorization code:\n",
            "··········\n",
            "Mounted at /content/drive\n"
          ],
          "name": "stdout"
        }
      ]
    },
    {
      "metadata": {
        "id": "UWnI4AylsDG7",
        "colab_type": "code",
        "colab": {}
      },
      "cell_type": "code",
      "source": [
        "train_path = \"drive/My Drive/training\"\n",
        "val_path = \"drive/My Drive/validation\"\n",
        "test_path = \"drive/My Drive/test_set_images\""
      ],
      "execution_count": 0,
      "outputs": []
    },
    {
      "metadata": {
        "id": "b6uxgtKm6hwU",
        "colab_type": "code",
        "outputId": "c182653c-296b-4c8a-ce01-51b893a689e0",
        "colab": {
          "base_uri": "https://localhost:8080/",
          "height": 34
        }
      },
      "cell_type": "code",
      "source": [
        "import numpy as np\n",
        "np.random.seed(1)\n",
        "import random\n",
        "random.seed(1)\n",
        "\n",
        "import os\n",
        "import skimage.io as io\n",
        "from PIL import Image\n",
        "import matplotlib.pyplot as plt\n",
        "%matplotlib inline\n",
        "\n",
        "from sklearn.model_selection import train_test_split\n",
        "\n",
        "import tensorflow as tf\n",
        "from keras.models import *\n",
        "from keras.layers import *\n",
        "from keras.losses import *\n",
        "from keras.optimizers import *\n",
        "import keras.backend as K\n",
        "from keras.callbacks import ReduceLROnPlateau, ModelCheckpoint, EarlyStopping, TensorBoard\n",
        "from keras.preprocessing.image import ImageDataGenerator\n",
        "\n"
      ],
      "execution_count": 0,
      "outputs": [
        {
          "output_type": "stream",
          "text": [
            "Using TensorFlow backend.\n"
          ],
          "name": "stderr"
        }
      ]
    },
    {
      "metadata": {
        "id": "rOEJTVugwLfr",
        "colab_type": "text"
      },
      "cell_type": "markdown",
      "source": [
        "# Data Enrichment and Augmentation\n",
        "Enrich our trainning set:\n",
        "1.   Filip original image\n",
        "2.   Rotate image and filpped version by {90, 180, 270} degree\n",
        "\n",
        "In this way we get eight-fold our original data set and we consider this enriched dataset as **real** data. It makes sence as in real world satellite images may also be shown in different ways, e.g. upside-down, or horizontally mirrored. \n",
        "\n",
        "After this step, we preserve 10% of enriched dataset as validation set and remain as training set.\n",
        "\n",
        "During training, we perform stochastic data augmentaion on training set; for validation, we only use the 10% data without any augmentation.\n",
        "\n"
      ]
    },
    {
      "metadata": {
        "id": "gqSsjUfL9OUn",
        "colab_type": "text"
      },
      "cell_type": "markdown",
      "source": [
        "## Data Enrichment"
      ]
    },
    {
      "metadata": {
        "id": "-EzAHF-3OhR0",
        "colab_type": "code",
        "colab": {}
      },
      "cell_type": "code",
      "source": [
        "# Data Enrichment - flip & rotate\n",
        "\n",
        "for i in range(1, 101):\n",
        "    im = Image.open(os.path.join(train_path, 'images', 'satImage_%.3d.png'%i))\n",
        "    ma = Image.open(os.path.join(train_path, 'groundtruth', 'satImage_%.3d.png'%i))\n",
        "\n",
        "    im_f = im.transpose(Image.FLIP_LEFT_RIGHT)\n",
        "    io.imsave(os.path.join(train_path, 'images', 'satImage_%.3d_f.png'%i), im_f)\n",
        "\n",
        "    ma_f = ma.transpose(Image.FLIP_LEFT_RIGHT)\n",
        "    io.imsave(os.path.join(train_path, 'groundtruth', 'satImage_%.3d_f.png'%i), ma_f)\n",
        "  \n",
        "  \n",
        "    for angle in [90, 180, 270]:\n",
        "        im_r = im.rotate(angle)\n",
        "        io.imsave(os.path.join(train_path, 'images', 'satImage_%.3d_%.3d.png'%(i, angle)), im_r)\n",
        "\n",
        "        im_f_r = im_f.rotate(angle)\n",
        "        io.imsave(os.path.join(train_path, 'images', 'satImage_%.3d_f_%.3d.png'%(i, angle)), im_f_r)\n",
        "\n",
        "        ma_r = ma.rotate(angle)\n",
        "        io.imsave(os.path.join(train_path, 'groundtruth', 'satImage_%.3d_%.3d.png'%(i, angle)), ma_r)\n",
        "\n",
        "        ma_f_r = ma_f.rotate(angle)\n",
        "        io.imsave(os.path.join(train_path, 'groundtruth', 'satImage_%.3d_f_%.3d.png'%(i, angle)), ma_f_r)\n"
      ],
      "execution_count": 0,
      "outputs": []
    },
    {
      "metadata": {
        "id": "rWKVdD_B5e6G",
        "colab_type": "code",
        "outputId": "38c700f4-d92c-44b0-d250-91fcdcbd49c3",
        "colab": {
          "base_uri": "https://localhost:8080/",
          "height": 34
        }
      },
      "cell_type": "code",
      "source": [
        "train_val_images = os.listdir(os.path.join(train_path, 'images'))\n",
        "\n",
        "from sklearn.model_selection import train_test_split\n",
        "train_images, val_images = train_test_split(train_val_images, test_size=0.2, random_state=1)\n",
        "len(train_images), len(val_images)"
      ],
      "execution_count": 0,
      "outputs": [
        {
          "output_type": "execute_result",
          "data": {
            "text/plain": [
              "(640, 160)"
            ]
          },
          "metadata": {
            "tags": []
          },
          "execution_count": 24
        }
      ]
    },
    {
      "metadata": {
        "id": "66PbDToq6u1E",
        "colab_type": "code",
        "colab": {}
      },
      "cell_type": "code",
      "source": [
        "!mkdir \"/content/drive/My Drive/validation\"\n",
        "!mkdir \"/content/drive/My Drive/validation/images\"\n",
        "!mkdir \"/content/drive/My Drive/validation/groundtruth\""
      ],
      "execution_count": 0,
      "outputs": []
    },
    {
      "metadata": {
        "id": "KboYfCSN8idR",
        "colab_type": "code",
        "colab": {}
      },
      "cell_type": "code",
      "source": [
        "val_path = \"/content/drive/My Drive/validation\"\n",
        "for im in val_images:\n",
        "    os.rename(os.path.join(train_path, 'images', im), os.path.join(val_path, 'images', im))\n",
        "    os.rename(os.path.join(train_path, 'groundtruth', im), os.path.join(val_path, 'groundtruth', im))"
      ],
      "execution_count": 0,
      "outputs": []
    },
    {
      "metadata": {
        "id": "C11U0KjY9K0T",
        "colab_type": "text"
      },
      "cell_type": "markdown",
      "source": [
        "## Data Augmentation"
      ]
    },
    {
      "metadata": {
        "id": "7wUP313czr13",
        "colab_type": "code",
        "colab": {}
      },
      "cell_type": "code",
      "source": [
        "def preprocess_mask(mask):\n",
        "    mask = mask/255\n",
        "    mask[mask > 0.5] = 1\n",
        "    mask[mask <= 0.5] = 0\n",
        "    return mask\n",
        "  \n",
        "def preprocess_img(img):\n",
        "    return img/255"
      ],
      "execution_count": 0,
      "outputs": []
    },
    {
      "metadata": {
        "id": "-_0OLI52zsnp",
        "colab_type": "code",
        "colab": {}
      },
      "cell_type": "code",
      "source": [
        "def trainvalGenerator(batch_size, train_path, val_path,\n",
        "                      image_folder, mask_folder,\n",
        "                      aug_dict, train_dir = None, val_dir = None,\n",
        "                      target_size = (400,400), seed = 1):\n",
        "    '''\n",
        "    can generate image and mask at the same time\n",
        "    use the same seed for image_datagen and mask_datagen to ensure the transformation for image and mask is the same\n",
        "    if you want to visualize the results of generator, set save_to_dir = \"your path\"\n",
        "    '''\n",
        "    \n",
        "    \n",
        "    # Train\n",
        "    image_dict = aug_dict.copy()\n",
        "    image_dict[\"preprocessing_function\"] = preprocess_img\n",
        "    image_datagen = ImageDataGenerator(**image_dict)\n",
        "    \n",
        "    mask_dict = aug_dict.copy()\n",
        "    mask_dict[\"preprocessing_function\"] = preprocess_mask\n",
        "    mask_datagen = ImageDataGenerator(**mask_dict)\n",
        "    \n",
        "    image_generator_train = image_datagen.flow_from_directory(\n",
        "        train_path,\n",
        "        classes = [image_folder],\n",
        "        class_mode = None,\n",
        "        color_mode = \"rgb\",\n",
        "        target_size = target_size,\n",
        "        batch_size = batch_size,\n",
        "        save_to_dir = train_dir,\n",
        "        save_prefix  = \"image\",\n",
        "        seed = seed)\n",
        "    \n",
        "    mask_generator_train = mask_datagen.flow_from_directory(\n",
        "        train_path,\n",
        "        classes = [mask_folder],\n",
        "        class_mode = None,\n",
        "        color_mode = \"grayscale\",\n",
        "        target_size = target_size,\n",
        "        batch_size = batch_size,\n",
        "        save_to_dir = train_dir,\n",
        "        save_prefix  = \"mask\",\n",
        "        seed = seed)\n",
        "    \n",
        "    # Validation\n",
        "    image_datagen = ImageDataGenerator(preprocessing_function=preprocess_img)\n",
        "    mask_datagen = ImageDataGenerator(preprocessing_function=preprocess_mask)\n",
        "    \n",
        "    image_generator_val = image_datagen.flow_from_directory(\n",
        "        val_path,\n",
        "        classes = [image_folder],\n",
        "        class_mode = None,\n",
        "        color_mode = \"rgb\",\n",
        "        target_size = target_size,\n",
        "        batch_size = batch_size,\n",
        "        save_to_dir = val_dir,\n",
        "        save_prefix  = \"image\",\n",
        "        seed = seed+1,\n",
        "        shuffle = False\n",
        "    )\n",
        "    \n",
        "    mask_generator_val = mask_datagen.flow_from_directory(\n",
        "        val_path,\n",
        "        classes = [mask_folder],\n",
        "        class_mode = None,\n",
        "        color_mode = \"grayscale\",\n",
        "        target_size = target_size,\n",
        "        batch_size = batch_size,\n",
        "        save_to_dir = val_dir,\n",
        "        save_prefix  = \"mask\",\n",
        "        seed = seed+1,\n",
        "        shuffle = False\n",
        "    )\n",
        "    \n",
        "    return zip(image_generator_train, mask_generator_train), zip(image_generator_val, mask_generator_val)"
      ],
      "execution_count": 0,
      "outputs": []
    },
    {
      "metadata": {
        "id": "bCuvrDlPzzEK",
        "colab_type": "code",
        "colab": {}
      },
      "cell_type": "code",
      "source": [
        "# argument for data augmentation\n",
        "data_gen_args = dict(rotation_range=45,\n",
        "                     width_shift_range=0.1,\n",
        "                     height_shift_range=0.1,\n",
        "                     horizontal_flip=True,\n",
        "                     vertical_flip=True,\n",
        "                     fill_mode='reflect')"
      ],
      "execution_count": 0,
      "outputs": []
    },
    {
      "metadata": {
        "id": "frTWFcvPz20j",
        "colab_type": "code",
        "colab": {}
      },
      "cell_type": "code",
      "source": [
        "!rm -rf train_image\n",
        "!rm -rf val_image\n",
        "!mkdir train_image\n",
        "!mkdir val_image"
      ],
      "execution_count": 0,
      "outputs": []
    },
    {
      "metadata": {
        "id": "Z5gSWJd2z2Hs",
        "colab_type": "code",
        "outputId": "0a030543-271b-4738-b54c-fba750fcf597",
        "colab": {
          "base_uri": "https://localhost:8080/",
          "height": 85
        }
      },
      "cell_type": "code",
      "source": [
        "trainGen, valGen = trainvalGenerator(batch_size=2, \n",
        "                                     train_path=train_path, val_path=val_path,\n",
        "                                     image_folder='images', mask_folder='groundtruth',\n",
        "                                     aug_dict=data_gen_args, \n",
        "                                     train_dir = \"train_image\", # Set it to None if you don't want to save\n",
        "                                     val_dir = None, # Set it to None if you don't want to save\n",
        "                                     target_size = (400, 400), seed = 1)"
      ],
      "execution_count": 0,
      "outputs": [
        {
          "output_type": "stream",
          "text": [
            "Found 640 images belonging to 1 classes.\n",
            "Found 640 images belonging to 1 classes.\n",
            "Found 160 images belonging to 1 classes.\n",
            "Found 160 images belonging to 1 classes.\n"
          ],
          "name": "stdout"
        }
      ]
    },
    {
      "metadata": {
        "id": "UBmHBak0z-vo",
        "colab_type": "text"
      },
      "cell_type": "markdown",
      "source": [
        "# Metrics and Loss"
      ]
    },
    {
      "metadata": {
        "id": "oA3rwAgMr_Nj",
        "colab_type": "code",
        "colab": {}
      },
      "cell_type": "code",
      "source": [
        "# credits: https://stackoverflow.com/questions/43547402/how-to-calculate-f1-macro-in-keras\n",
        "\n",
        "def f1(y_true, y_pred):\n",
        "    def recall(y_true, y_pred):\n",
        "        \"\"\"Recall metric.\n",
        "\n",
        "        Only computes a batch-wise average of recall.\n",
        "\n",
        "        Computes the recall, a metric for multi-label classification of\n",
        "        how many relevant items are selected.\n",
        "        \"\"\"\n",
        "        true_positives = K.sum(K.round(K.clip(y_true * y_pred, 0, 1)))\n",
        "        possible_positives = K.sum(K.round(K.clip(y_true, 0, 1)))\n",
        "        recall = true_positives / (possible_positives + K.epsilon())\n",
        "        return recall\n",
        "\n",
        "    def precision(y_true, y_pred):\n",
        "        \"\"\"Precision metric.\n",
        "\n",
        "        Only computes a batch-wise average of precision.\n",
        "\n",
        "        Computes the precision, a metric for multi-label classification of\n",
        "        how many selected items are relevant.\n",
        "        \"\"\"\n",
        "        true_positives = K.sum(K.round(K.clip(y_true * y_pred, 0, 1)))\n",
        "        predicted_positives = K.sum(K.round(K.clip(y_pred, 0, 1)))\n",
        "        precision = true_positives / (predicted_positives + K.epsilon())\n",
        "        return precision\n",
        "    precision = precision(y_true, y_pred)\n",
        "    recall = recall(y_true, y_pred)\n",
        "    return 2*((precision*recall)/(precision+recall+K.epsilon()))"
      ],
      "execution_count": 0,
      "outputs": []
    },
    {
      "metadata": {
        "id": "DslNaQxLuHzK",
        "colab_type": "code",
        "colab": {}
      },
      "cell_type": "code",
      "source": [
        "# https://arxiv.org/pdf/1606.04797.pdf\n",
        "# https://arxiv.org/pdf/1707.03237.pdf\n",
        "\n",
        "# credits: https://github.com/petrosgk/Kaggle-Carvana-Image-Masking-Challenge/blob/master/model/losses.py\n",
        "from keras.losses import binary_crossentropy\n",
        "import keras.backend as K\n",
        "\n",
        "\n",
        "def dice_coeff(y_true, y_pred):\n",
        "    smooth = 1.\n",
        "    y_true_f = K.flatten(y_true)\n",
        "    y_pred_f = K.flatten(y_pred)\n",
        "    intersection = K.sum(y_true_f * y_pred_f)\n",
        "    score = (2. * intersection + smooth) / (K.sum(y_true_f) + K.sum(y_pred_f) + smooth)\n",
        "    return score\n",
        "\n",
        "\n",
        "def dice_loss(y_true, y_pred):\n",
        "    loss = 1 - dice_coeff(y_true, y_pred)\n",
        "    return loss\n",
        "\n",
        "\n",
        "def bce_dice_loss(y_true, y_pred):\n",
        "    loss = binary_crossentropy(y_true, y_pred) + dice_loss(y_true, y_pred)\n",
        "    return loss"
      ],
      "execution_count": 0,
      "outputs": []
    },
    {
      "metadata": {
        "id": "U57_hYj3k1qp",
        "colab_type": "code",
        "colab": {}
      },
      "cell_type": "code",
      "source": [
        "# foreground_threshold = 0.25\n",
        "\n",
        "# def patch_to_label(patch):\n",
        "#     df = np.mean(patch)\n",
        "#     if df > foreground_threshold:\n",
        "#         return 1\n",
        "#     else:\n",
        "#         return 0\n",
        "      \n",
        "# def get_label(y, patch_size=16):\n",
        "#     label = []\n",
        "#     y_array = K.eval(y[:,:,:,0])\n",
        "#     for im in y_array:\n",
        "#       for j in range(0, im.shape[1], patch_size):\n",
        "#         for i in range(0, im.shape[0], patch_size):\n",
        "#             patch = im[i:i + patch_size, j:j + patch_size]\n",
        "#             label.append(patch_to_label(patch))\n",
        "#     return np.array(label)\n",
        "  \n",
        "# def patch_f1(y_true, y_pred):\n",
        "#     true_label = get_label(y_true)\n",
        "#     pred_label = get_label(y_pred)\n",
        "#     return f1(true_label, pred_label)"
      ],
      "execution_count": 0,
      "outputs": []
    },
    {
      "metadata": {
        "id": "ykKFQvakr_Np",
        "colab_type": "code",
        "colab": {}
      },
      "cell_type": "code",
      "source": [
        "# # credits: https://www.kaggle.com/guglielmocamporese/macro-f1-score-keras\n",
        "\n",
        "# def f1(y_true, y_pred):\n",
        "#     #y_pred = K.round(y_pred)\n",
        "#     #y_pred = K.cast(K.greater(K.clip(y_pred, 0, 1), THRESHOLD), K.floatx())\n",
        "#     tp = K.sum(K.cast(y_true*y_pred, 'float'), axis=0)\n",
        "#     tn = K.sum(K.cast((1-y_true)*(1-y_pred), 'float'), axis=0)\n",
        "#     fp = K.sum(K.cast((1-y_true)*y_pred, 'float'), axis=0)\n",
        "#     fn = K.sum(K.cast(y_true*(1-y_pred), 'float'), axis=0)\n",
        "\n",
        "#     p = tp / (tp + fp + K.epsilon())\n",
        "#     r = tp / (tp + fn + K.epsilon())\n",
        "\n",
        "#     f1 = 2*p*r / (p+r+K.epsilon())\n",
        "#     f1 = tf.where(tf.is_nan(f1), tf.zeros_like(f1), f1)\n",
        "#     return K.mean(f1)\n",
        "  \n",
        "# def f1_loss(y_true, y_pred):\n",
        "    \n",
        "#     tp = K.sum(K.cast(y_true*y_pred, 'float'), axis=0)\n",
        "#     tn = K.sum(K.cast((1-y_true)*(1-y_pred), 'float'), axis=0)\n",
        "#     fp = K.sum(K.cast((1-y_true)*y_pred, 'float'), axis=0)\n",
        "#     fn = K.sum(K.cast(y_true*(1-y_pred), 'float'), axis=0)\n",
        "\n",
        "#     p = tp / (tp + fp + K.epsilon())\n",
        "#     r = tp / (tp + fn + K.epsilon())\n",
        "\n",
        "#     f1 = 2*p*r / (p+r+K.epsilon())\n",
        "#     f1 = tf.where(tf.is_nan(f1), tf.zeros_like(f1), f1)\n",
        "#     return 1 - K.mean(f1)"
      ],
      "execution_count": 0,
      "outputs": []
    },
    {
      "metadata": {
        "id": "_DOLzXLa0GJ0",
        "colab_type": "text"
      },
      "cell_type": "markdown",
      "source": [
        "# Network"
      ]
    },
    {
      "metadata": {
        "id": "l7Gu5oZgCgie",
        "colab_type": "code",
        "colab": {}
      },
      "cell_type": "code",
      "source": [
        "def conv2d_block(input_tensor, n_filter, kernel_size=3, batchnorm=True, activation='relu'):\n",
        "    # first layer\n",
        "    x = Conv2D(n_filter, kernel_size=kernel_size, kernel_initializer=\"he_normal\",\n",
        "               padding=\"same\")(input_tensor)\n",
        "    if batchnorm:\n",
        "        x = BatchNormalization()(x)\n",
        "    x = Activation(activation)(x)\n",
        "    # second layer\n",
        "    x = Conv2D(n_filter, kernel_size=kernel_size, kernel_initializer=\"he_normal\",\n",
        "               padding=\"same\")(x)\n",
        "    if batchnorm:\n",
        "        x = BatchNormalization()(x)\n",
        "    x = Activation(activation)(x)\n",
        "    return x"
      ],
      "execution_count": 0,
      "outputs": []
    },
    {
      "metadata": {
        "id": "2yp2xDTpr_Nv",
        "colab_type": "code",
        "colab": {}
      },
      "cell_type": "code",
      "source": [
        "def unet(pretrained_weights = None,\n",
        "         input_size = (None,None,3),\n",
        "         n_filter=16,\n",
        "         activation='relu',\n",
        "         dropout=True, dropout_rate=0.5,\n",
        "         batchnorm=True,\n",
        "         loss=binary_crossentropy,\n",
        "         optimizer=Adam(lr=1e-4)\n",
        "        ):\n",
        "  \n",
        "    # 3\n",
        "    inputs = Input(input_size)\n",
        "    \n",
        "    # down path\n",
        "    # n_filter\n",
        "    conv1 = conv2d_block(inputs, n_filter, kernel_size=3, batchnorm=batchnorm, activation=activation)\n",
        "    pool1 = MaxPooling2D(pool_size=(2, 2))(conv1)\n",
        "    \n",
        "    # n_filter*2\n",
        "    conv2 = conv2d_block(pool1, n_filter*2, kernel_size=3, batchnorm=batchnorm, activation=activation)\n",
        "    pool2 = MaxPooling2D(pool_size=(2, 2))(conv2)\n",
        "    \n",
        "    # n_filter*4\n",
        "    conv3 = conv2d_block(pool2, n_filter*4, kernel_size=3, batchnorm=batchnorm, activation=activation)\n",
        "    pool3 = MaxPooling2D(pool_size=(2, 2))(conv3)\n",
        "    \n",
        "    # n_filter*8\n",
        "    conv4 = conv2d_block(pool3, n_filter*8, kernel_size=3, batchnorm=batchnorm, activation=activation)\n",
        "    pool4 = MaxPooling2D(pool_size=(2, 2))(conv4)\n",
        "\n",
        "    # central path\n",
        "    # n_filter*16\n",
        "    conv5 = conv2d_block(pool4, n_filter*16, kernel_size=3, batchnorm=batchnorm, activation=activation)\n",
        "\n",
        "    # up path\n",
        "    # n_filter*8\n",
        "    up6 = Conv2DTranspose(n_filter*8, kernel_size=2, strides=2, kernel_initializer=\"he_normal\", padding='same')(conv5)\n",
        "    merge6 = concatenate([conv4, up6], axis = 3)\n",
        "    merge6 = Dropout(dropout_rate)(merge6) if dropout else merge6\n",
        "    conv6 = conv2d_block(merge6, n_filter*8, kernel_size=3, batchnorm=False, activation=activation)\n",
        "    \n",
        "    # n_filter*4\n",
        "    up7 = Conv2DTranspose(n_filter*4, kernel_size=2, strides=2, kernel_initializer=\"he_normal\", padding='same')(conv6)\n",
        "    merge7 = concatenate([conv3, up7], axis = 3)\n",
        "    merge7 = Dropout(dropout_rate)(merge7) if dropout else merge7\n",
        "    conv7 = conv2d_block(merge7, n_filter*4, kernel_size=3, batchnorm=False, activation=activation)\n",
        "    \n",
        "    # n_filter*2\n",
        "    up8 = Conv2DTranspose(n_filter*2, kernel_size=2, strides=2, kernel_initializer=\"he_normal\", padding='same')(conv7)\n",
        "    merge8 = concatenate([conv2, up8], axis = 3)\n",
        "    merge8 = Dropout(dropout_rate)(merge8) if dropout else merge8\n",
        "    conv8 = conv2d_block(merge8, n_filter*2, kernel_size=3, batchnorm=False, activation=activation)\n",
        "    \n",
        "    # n_filter\n",
        "    up9 = Conv2DTranspose(n_filter, kernel_size=2, strides=2, kernel_initializer=\"he_normal\", padding='same')(conv8)\n",
        "    merge9 = concatenate([conv1, up9], axis = 3)\n",
        "    merge9 = Dropout(dropout_rate)(merge9) if dropout else merge9\n",
        "    conv9 = conv2d_block(merge9, n_filter, kernel_size=3, batchnorm=False, activation=activation)\n",
        "    \n",
        "    # classifier\n",
        "    conv10 = Conv2D(1, 1, activation='sigmoid')(conv9)\n",
        "\n",
        "    model = Model(inputs = inputs, outputs = conv10)\n",
        "\n",
        "    model.compile(optimizer = optimizer, loss = loss, metrics = [f1, 'accuracy'])\n",
        "    \n",
        "    if(pretrained_weights):\n",
        "        model.load_weights(filepath=pretrained_weights)\n",
        "\n",
        "    return model"
      ],
      "execution_count": 0,
      "outputs": []
    },
    {
      "metadata": {
        "id": "knx3uNw6r_OB",
        "colab_type": "code",
        "colab": {}
      },
      "cell_type": "code",
      "source": [
        "model = unet(pretrained_weights='drive/My Drive/weights_64_0.2_elu_dice.h5', n_filter=64, activation='elu', dropout_rate=0.2, loss=dice_loss, optimizer=Adam(lr=1e-6))\n",
        "# model.summary()"
      ],
      "execution_count": 0,
      "outputs": []
    },
    {
      "metadata": {
        "id": "GB1nBuWH0I7z",
        "colab_type": "text"
      },
      "cell_type": "markdown",
      "source": [
        "# Train"
      ]
    },
    {
      "metadata": {
        "id": "5ReAr6s7r_OG",
        "colab_type": "code",
        "colab": {}
      },
      "cell_type": "code",
      "source": [
        "callbacks = [\n",
        "#     ModelCheckpoint('weights_no_val.h5', monitor='val_loss', save_best_only=True, verbose=1),\n",
        "    EarlyStopping(monitor='val_loss', patience=9, verbose=1, min_delta=1e-4),\n",
        "    ReduceLROnPlateau(monitor='val_loss', factor=0.1, patience=3, verbose=1, min_delta=1e-4),\n",
        "    ModelCheckpoint('drive/My Drive/weights_64_0.2_elu_dice_train_more.h5', monitor='val_loss', save_best_only=True, verbose=1),\n",
        "    TensorBoard(log_dir='tensorboard/', write_graph=True, write_images=True)\n",
        "]"
      ],
      "execution_count": 0,
      "outputs": []
    },
    {
      "metadata": {
        "id": "pokgC4X9r_OX",
        "colab_type": "code",
        "outputId": "9d99eb2b-bb5f-4ec6-c2ea-8a35d0f51a75",
        "colab": {
          "base_uri": "https://localhost:8080/",
          "height": 2394
        }
      },
      "cell_type": "code",
      "source": [
        "print('*'*30)\n",
        "print('Fitting model...')\n",
        "print('*'*30)\n",
        "history = model.fit_generator(generator=trainGen, steps_per_epoch=100,\n",
        "                              validation_data=valGen, validation_steps=80,\n",
        "                              epochs=100, callbacks=callbacks)"
      ],
      "execution_count": 0,
      "outputs": [
        {
          "output_type": "stream",
          "text": [
            "******************************\n",
            "Fitting model...\n",
            "******************************\n",
            "Epoch 1/100\n",
            "100/100 [==============================] - 112s 1s/step - loss: 0.1014 - f1: 0.8986 - acc: 0.9579 - val_loss: 0.1128 - val_f1: 0.8872 - val_acc: 0.9570\n",
            "\n",
            "Epoch 00001: val_loss did not improve from 0.11230\n",
            "Epoch 2/100\n",
            "100/100 [==============================] - 111s 1s/step - loss: 0.0903 - f1: 0.9097 - acc: 0.9647 - val_loss: 0.1127 - val_f1: 0.8874 - val_acc: 0.9571\n",
            "\n",
            "Epoch 00002: val_loss did not improve from 0.11230\n",
            "Epoch 3/100\n",
            "100/100 [==============================] - 111s 1s/step - loss: 0.0840 - f1: 0.9160 - acc: 0.9667 - val_loss: 0.1128 - val_f1: 0.8872 - val_acc: 0.9570\n",
            "\n",
            "Epoch 00003: val_loss did not improve from 0.11230\n",
            "Epoch 4/100\n",
            "100/100 [==============================] - 111s 1s/step - loss: 0.0862 - f1: 0.9138 - acc: 0.9666 - val_loss: 0.1126 - val_f1: 0.8874 - val_acc: 0.9570\n",
            "\n",
            "Epoch 00004: val_loss did not improve from 0.11230\n",
            "Epoch 5/100\n",
            "100/100 [==============================] - 111s 1s/step - loss: 0.0907 - f1: 0.9093 - acc: 0.9655 - val_loss: 0.1128 - val_f1: 0.8873 - val_acc: 0.9570\n",
            "\n",
            "Epoch 00005: ReduceLROnPlateau reducing learning rate to 1.0000000116860975e-08.\n",
            "\n",
            "Epoch 00005: val_loss did not improve from 0.11230\n",
            "Epoch 6/100\n",
            "100/100 [==============================] - 111s 1s/step - loss: 0.0918 - f1: 0.9083 - acc: 0.9653 - val_loss: 0.1127 - val_f1: 0.8873 - val_acc: 0.9571\n",
            "\n",
            "Epoch 00006: val_loss did not improve from 0.11230\n",
            "Epoch 7/100\n",
            "100/100 [==============================] - 111s 1s/step - loss: 0.0929 - f1: 0.9071 - acc: 0.9630 - val_loss: 0.1125 - val_f1: 0.8875 - val_acc: 0.9571\n",
            "\n",
            "Epoch 00007: val_loss did not improve from 0.11230\n",
            "Epoch 8/100\n",
            "100/100 [==============================] - 111s 1s/step - loss: 0.0834 - f1: 0.9166 - acc: 0.9665 - val_loss: 0.1129 - val_f1: 0.8872 - val_acc: 0.9570\n",
            "\n",
            "Epoch 00008: val_loss did not improve from 0.11230\n",
            "Epoch 9/100\n",
            "100/100 [==============================] - 111s 1s/step - loss: 0.0927 - f1: 0.9073 - acc: 0.9636 - val_loss: 0.1123 - val_f1: 0.8877 - val_acc: 0.9571\n",
            "\n",
            "Epoch 00009: val_loss did not improve from 0.11230\n",
            "Epoch 10/100\n",
            "100/100 [==============================] - 111s 1s/step - loss: 0.0895 - f1: 0.9105 - acc: 0.9656 - val_loss: 0.1125 - val_f1: 0.8876 - val_acc: 0.9570\n",
            "\n",
            "Epoch 00010: val_loss did not improve from 0.11230\n",
            "Epoch 11/100\n",
            "100/100 [==============================] - 111s 1s/step - loss: 0.0882 - f1: 0.9119 - acc: 0.9652 - val_loss: 0.1128 - val_f1: 0.8872 - val_acc: 0.9572\n",
            "\n",
            "Epoch 00011: val_loss did not improve from 0.11230\n",
            "Epoch 12/100\n",
            "100/100 [==============================] - 111s 1s/step - loss: 0.0887 - f1: 0.9113 - acc: 0.9657 - val_loss: 0.1129 - val_f1: 0.8871 - val_acc: 0.9570\n",
            "\n",
            "Epoch 00012: ReduceLROnPlateau reducing learning rate to 9.999999939225292e-10.\n",
            "\n",
            "Epoch 00012: val_loss did not improve from 0.11230\n",
            "Epoch 13/100\n",
            "100/100 [==============================] - 111s 1s/step - loss: 0.0867 - f1: 0.9134 - acc: 0.9656 - val_loss: 0.1130 - val_f1: 0.8871 - val_acc: 0.9571\n",
            "\n",
            "Epoch 00013: val_loss did not improve from 0.11230\n",
            "Epoch 14/100\n",
            "100/100 [==============================] - 111s 1s/step - loss: 0.0906 - f1: 0.9094 - acc: 0.9642 - val_loss: 0.1128 - val_f1: 0.8872 - val_acc: 0.9569\n",
            "\n",
            "Epoch 00014: val_loss did not improve from 0.11230\n",
            "Epoch 15/100\n",
            "100/100 [==============================] - 111s 1s/step - loss: 0.0913 - f1: 0.9088 - acc: 0.9653 - val_loss: 0.1123 - val_f1: 0.8877 - val_acc: 0.9572\n",
            "\n",
            "Epoch 00015: ReduceLROnPlateau reducing learning rate to 9.999999717180686e-11.\n",
            "\n",
            "Epoch 00015: val_loss improved from 0.11230 to 0.11227, saving model to drive/My Drive/weights_64_0.2_elu_dice_train_more.h5\n",
            "Epoch 16/100\n",
            "100/100 [==============================] - 111s 1s/step - loss: 0.0869 - f1: 0.9131 - acc: 0.9668 - val_loss: 0.1123 - val_f1: 0.8877 - val_acc: 0.9572\n",
            "\n",
            "Epoch 00016: val_loss did not improve from 0.11227\n",
            "Epoch 17/100\n",
            "100/100 [==============================] - 111s 1s/step - loss: 0.0846 - f1: 0.9155 - acc: 0.9665 - val_loss: 0.1128 - val_f1: 0.8872 - val_acc: 0.9570\n",
            "\n",
            "Epoch 00017: val_loss did not improve from 0.11227\n",
            "Epoch 18/100\n",
            " 42/100 [===========>..................] - ETA: 49s - loss: 0.0962 - f1: 0.9038 - acc: 0.9651"
          ],
          "name": "stdout"
        },
        {
          "output_type": "error",
          "ename": "KeyboardInterrupt",
          "evalue": "ignored",
          "traceback": [
            "\u001b[0;31m---------------------------------------------------------------------------\u001b[0m",
            "\u001b[0;31mKeyboardInterrupt\u001b[0m                         Traceback (most recent call last)",
            "\u001b[0;32m<ipython-input-17-5823c353b8fa>\u001b[0m in \u001b[0;36m<module>\u001b[0;34m()\u001b[0m\n\u001b[1;32m      4\u001b[0m history = model.fit_generator(generator=trainGen, steps_per_epoch=100,\n\u001b[1;32m      5\u001b[0m                               \u001b[0mvalidation_data\u001b[0m\u001b[0;34m=\u001b[0m\u001b[0mvalGen\u001b[0m\u001b[0;34m,\u001b[0m \u001b[0mvalidation_steps\u001b[0m\u001b[0;34m=\u001b[0m\u001b[0;36m80\u001b[0m\u001b[0;34m,\u001b[0m\u001b[0;34m\u001b[0m\u001b[0;34m\u001b[0m\u001b[0m\n\u001b[0;32m----> 6\u001b[0;31m                               epochs=100, callbacks=callbacks)\n\u001b[0m",
            "\u001b[0;32m/usr/local/lib/python3.6/dist-packages/keras/legacy/interfaces.py\u001b[0m in \u001b[0;36mwrapper\u001b[0;34m(*args, **kwargs)\u001b[0m\n\u001b[1;32m     89\u001b[0m                 warnings.warn('Update your `' + object_name + '` call to the ' +\n\u001b[1;32m     90\u001b[0m                               'Keras 2 API: ' + signature, stacklevel=2)\n\u001b[0;32m---> 91\u001b[0;31m             \u001b[0;32mreturn\u001b[0m \u001b[0mfunc\u001b[0m\u001b[0;34m(\u001b[0m\u001b[0;34m*\u001b[0m\u001b[0margs\u001b[0m\u001b[0;34m,\u001b[0m \u001b[0;34m**\u001b[0m\u001b[0mkwargs\u001b[0m\u001b[0;34m)\u001b[0m\u001b[0;34m\u001b[0m\u001b[0;34m\u001b[0m\u001b[0m\n\u001b[0m\u001b[1;32m     92\u001b[0m         \u001b[0mwrapper\u001b[0m\u001b[0;34m.\u001b[0m\u001b[0m_original_function\u001b[0m \u001b[0;34m=\u001b[0m \u001b[0mfunc\u001b[0m\u001b[0;34m\u001b[0m\u001b[0;34m\u001b[0m\u001b[0m\n\u001b[1;32m     93\u001b[0m         \u001b[0;32mreturn\u001b[0m \u001b[0mwrapper\u001b[0m\u001b[0;34m\u001b[0m\u001b[0;34m\u001b[0m\u001b[0m\n",
            "\u001b[0;32m/usr/local/lib/python3.6/dist-packages/keras/engine/training.py\u001b[0m in \u001b[0;36mfit_generator\u001b[0;34m(self, generator, steps_per_epoch, epochs, verbose, callbacks, validation_data, validation_steps, class_weight, max_queue_size, workers, use_multiprocessing, shuffle, initial_epoch)\u001b[0m\n\u001b[1;32m   1416\u001b[0m             \u001b[0muse_multiprocessing\u001b[0m\u001b[0;34m=\u001b[0m\u001b[0muse_multiprocessing\u001b[0m\u001b[0;34m,\u001b[0m\u001b[0;34m\u001b[0m\u001b[0;34m\u001b[0m\u001b[0m\n\u001b[1;32m   1417\u001b[0m             \u001b[0mshuffle\u001b[0m\u001b[0;34m=\u001b[0m\u001b[0mshuffle\u001b[0m\u001b[0;34m,\u001b[0m\u001b[0;34m\u001b[0m\u001b[0;34m\u001b[0m\u001b[0m\n\u001b[0;32m-> 1418\u001b[0;31m             initial_epoch=initial_epoch)\n\u001b[0m\u001b[1;32m   1419\u001b[0m \u001b[0;34m\u001b[0m\u001b[0m\n\u001b[1;32m   1420\u001b[0m     \u001b[0;34m@\u001b[0m\u001b[0minterfaces\u001b[0m\u001b[0;34m.\u001b[0m\u001b[0mlegacy_generator_methods_support\u001b[0m\u001b[0;34m\u001b[0m\u001b[0;34m\u001b[0m\u001b[0m\n",
            "\u001b[0;32m/usr/local/lib/python3.6/dist-packages/keras/engine/training_generator.py\u001b[0m in \u001b[0;36mfit_generator\u001b[0;34m(model, generator, steps_per_epoch, epochs, verbose, callbacks, validation_data, validation_steps, class_weight, max_queue_size, workers, use_multiprocessing, shuffle, initial_epoch)\u001b[0m\n\u001b[1;32m    215\u001b[0m                 outs = model.train_on_batch(x, y,\n\u001b[1;32m    216\u001b[0m                                             \u001b[0msample_weight\u001b[0m\u001b[0;34m=\u001b[0m\u001b[0msample_weight\u001b[0m\u001b[0;34m,\u001b[0m\u001b[0;34m\u001b[0m\u001b[0;34m\u001b[0m\u001b[0m\n\u001b[0;32m--> 217\u001b[0;31m                                             class_weight=class_weight)\n\u001b[0m\u001b[1;32m    218\u001b[0m \u001b[0;34m\u001b[0m\u001b[0m\n\u001b[1;32m    219\u001b[0m                 \u001b[0mouts\u001b[0m \u001b[0;34m=\u001b[0m \u001b[0mto_list\u001b[0m\u001b[0;34m(\u001b[0m\u001b[0mouts\u001b[0m\u001b[0;34m)\u001b[0m\u001b[0;34m\u001b[0m\u001b[0;34m\u001b[0m\u001b[0m\n",
            "\u001b[0;32m/usr/local/lib/python3.6/dist-packages/keras/engine/training.py\u001b[0m in \u001b[0;36mtrain_on_batch\u001b[0;34m(self, x, y, sample_weight, class_weight)\u001b[0m\n\u001b[1;32m   1215\u001b[0m             \u001b[0mins\u001b[0m \u001b[0;34m=\u001b[0m \u001b[0mx\u001b[0m \u001b[0;34m+\u001b[0m \u001b[0my\u001b[0m \u001b[0;34m+\u001b[0m \u001b[0msample_weights\u001b[0m\u001b[0;34m\u001b[0m\u001b[0;34m\u001b[0m\u001b[0m\n\u001b[1;32m   1216\u001b[0m         \u001b[0mself\u001b[0m\u001b[0;34m.\u001b[0m\u001b[0m_make_train_function\u001b[0m\u001b[0;34m(\u001b[0m\u001b[0;34m)\u001b[0m\u001b[0;34m\u001b[0m\u001b[0;34m\u001b[0m\u001b[0m\n\u001b[0;32m-> 1217\u001b[0;31m         \u001b[0moutputs\u001b[0m \u001b[0;34m=\u001b[0m \u001b[0mself\u001b[0m\u001b[0;34m.\u001b[0m\u001b[0mtrain_function\u001b[0m\u001b[0;34m(\u001b[0m\u001b[0mins\u001b[0m\u001b[0;34m)\u001b[0m\u001b[0;34m\u001b[0m\u001b[0;34m\u001b[0m\u001b[0m\n\u001b[0m\u001b[1;32m   1218\u001b[0m         \u001b[0;32mreturn\u001b[0m \u001b[0munpack_singleton\u001b[0m\u001b[0;34m(\u001b[0m\u001b[0moutputs\u001b[0m\u001b[0;34m)\u001b[0m\u001b[0;34m\u001b[0m\u001b[0;34m\u001b[0m\u001b[0m\n\u001b[1;32m   1219\u001b[0m \u001b[0;34m\u001b[0m\u001b[0m\n",
            "\u001b[0;32m/usr/local/lib/python3.6/dist-packages/keras/backend/tensorflow_backend.py\u001b[0m in \u001b[0;36m__call__\u001b[0;34m(self, inputs)\u001b[0m\n\u001b[1;32m   2713\u001b[0m                 \u001b[0;32mreturn\u001b[0m \u001b[0mself\u001b[0m\u001b[0;34m.\u001b[0m\u001b[0m_legacy_call\u001b[0m\u001b[0;34m(\u001b[0m\u001b[0minputs\u001b[0m\u001b[0;34m)\u001b[0m\u001b[0;34m\u001b[0m\u001b[0;34m\u001b[0m\u001b[0m\n\u001b[1;32m   2714\u001b[0m \u001b[0;34m\u001b[0m\u001b[0m\n\u001b[0;32m-> 2715\u001b[0;31m             \u001b[0;32mreturn\u001b[0m \u001b[0mself\u001b[0m\u001b[0;34m.\u001b[0m\u001b[0m_call\u001b[0m\u001b[0;34m(\u001b[0m\u001b[0minputs\u001b[0m\u001b[0;34m)\u001b[0m\u001b[0;34m\u001b[0m\u001b[0;34m\u001b[0m\u001b[0m\n\u001b[0m\u001b[1;32m   2716\u001b[0m         \u001b[0;32melse\u001b[0m\u001b[0;34m:\u001b[0m\u001b[0;34m\u001b[0m\u001b[0;34m\u001b[0m\u001b[0m\n\u001b[1;32m   2717\u001b[0m             \u001b[0;32mif\u001b[0m \u001b[0mpy_any\u001b[0m\u001b[0;34m(\u001b[0m\u001b[0mis_tensor\u001b[0m\u001b[0;34m(\u001b[0m\u001b[0mx\u001b[0m\u001b[0;34m)\u001b[0m \u001b[0;32mfor\u001b[0m \u001b[0mx\u001b[0m \u001b[0;32min\u001b[0m \u001b[0minputs\u001b[0m\u001b[0;34m)\u001b[0m\u001b[0;34m:\u001b[0m\u001b[0;34m\u001b[0m\u001b[0;34m\u001b[0m\u001b[0m\n",
            "\u001b[0;32m/usr/local/lib/python3.6/dist-packages/keras/backend/tensorflow_backend.py\u001b[0m in \u001b[0;36m_call\u001b[0;34m(self, inputs)\u001b[0m\n\u001b[1;32m   2673\u001b[0m             \u001b[0mfetched\u001b[0m \u001b[0;34m=\u001b[0m \u001b[0mself\u001b[0m\u001b[0;34m.\u001b[0m\u001b[0m_callable_fn\u001b[0m\u001b[0;34m(\u001b[0m\u001b[0;34m*\u001b[0m\u001b[0marray_vals\u001b[0m\u001b[0;34m,\u001b[0m \u001b[0mrun_metadata\u001b[0m\u001b[0;34m=\u001b[0m\u001b[0mself\u001b[0m\u001b[0;34m.\u001b[0m\u001b[0mrun_metadata\u001b[0m\u001b[0;34m)\u001b[0m\u001b[0;34m\u001b[0m\u001b[0;34m\u001b[0m\u001b[0m\n\u001b[1;32m   2674\u001b[0m         \u001b[0;32melse\u001b[0m\u001b[0;34m:\u001b[0m\u001b[0;34m\u001b[0m\u001b[0;34m\u001b[0m\u001b[0m\n\u001b[0;32m-> 2675\u001b[0;31m             \u001b[0mfetched\u001b[0m \u001b[0;34m=\u001b[0m \u001b[0mself\u001b[0m\u001b[0;34m.\u001b[0m\u001b[0m_callable_fn\u001b[0m\u001b[0;34m(\u001b[0m\u001b[0;34m*\u001b[0m\u001b[0marray_vals\u001b[0m\u001b[0;34m)\u001b[0m\u001b[0;34m\u001b[0m\u001b[0;34m\u001b[0m\u001b[0m\n\u001b[0m\u001b[1;32m   2676\u001b[0m         \u001b[0;32mreturn\u001b[0m \u001b[0mfetched\u001b[0m\u001b[0;34m[\u001b[0m\u001b[0;34m:\u001b[0m\u001b[0mlen\u001b[0m\u001b[0;34m(\u001b[0m\u001b[0mself\u001b[0m\u001b[0;34m.\u001b[0m\u001b[0moutputs\u001b[0m\u001b[0;34m)\u001b[0m\u001b[0;34m]\u001b[0m\u001b[0;34m\u001b[0m\u001b[0;34m\u001b[0m\u001b[0m\n\u001b[1;32m   2677\u001b[0m \u001b[0;34m\u001b[0m\u001b[0m\n",
            "\u001b[0;32m/usr/local/lib/python3.6/dist-packages/tensorflow/python/client/session.py\u001b[0m in \u001b[0;36m__call__\u001b[0;34m(self, *args, **kwargs)\u001b[0m\n\u001b[1;32m   1437\u001b[0m           ret = tf_session.TF_SessionRunCallable(\n\u001b[1;32m   1438\u001b[0m               \u001b[0mself\u001b[0m\u001b[0;34m.\u001b[0m\u001b[0m_session\u001b[0m\u001b[0;34m.\u001b[0m\u001b[0m_session\u001b[0m\u001b[0;34m,\u001b[0m \u001b[0mself\u001b[0m\u001b[0;34m.\u001b[0m\u001b[0m_handle\u001b[0m\u001b[0;34m,\u001b[0m \u001b[0margs\u001b[0m\u001b[0;34m,\u001b[0m \u001b[0mstatus\u001b[0m\u001b[0;34m,\u001b[0m\u001b[0;34m\u001b[0m\u001b[0;34m\u001b[0m\u001b[0m\n\u001b[0;32m-> 1439\u001b[0;31m               run_metadata_ptr)\n\u001b[0m\u001b[1;32m   1440\u001b[0m         \u001b[0;32mif\u001b[0m \u001b[0mrun_metadata\u001b[0m\u001b[0;34m:\u001b[0m\u001b[0;34m\u001b[0m\u001b[0;34m\u001b[0m\u001b[0m\n\u001b[1;32m   1441\u001b[0m           \u001b[0mproto_data\u001b[0m \u001b[0;34m=\u001b[0m \u001b[0mtf_session\u001b[0m\u001b[0;34m.\u001b[0m\u001b[0mTF_GetBuffer\u001b[0m\u001b[0;34m(\u001b[0m\u001b[0mrun_metadata_ptr\u001b[0m\u001b[0;34m)\u001b[0m\u001b[0;34m\u001b[0m\u001b[0;34m\u001b[0m\u001b[0m\n",
            "\u001b[0;31mKeyboardInterrupt\u001b[0m: "
          ]
        }
      ]
    },
    {
      "metadata": {
        "id": "PT7H62qNCvMZ",
        "colab_type": "code",
        "colab": {}
      },
      "cell_type": "code",
      "source": [
        "!cp weights_32_0.2_elu_dice_train_more.h5 \"drive/My Drive\"\n",
        "# # !cp weights_32_drop_relu.h5 \"drive/My Drive\""
      ],
      "execution_count": 0,
      "outputs": []
    },
    {
      "metadata": {
        "id": "M8pYyakN0LqR",
        "colab_type": "text"
      },
      "cell_type": "markdown",
      "source": [
        "# Predict"
      ]
    },
    {
      "metadata": {
        "id": "BsGVNX1nr_Oa",
        "colab_type": "code",
        "colab": {}
      },
      "cell_type": "code",
      "source": [
        "import skimage.io as io\n",
        "def testGenerator(test_path, num_image = 50):\n",
        "    for i in range(1,num_image+1):\n",
        "        img = io.imread(os.path.join(test_path, \"test_%d\"%i, \"test_%d.png\"%i))\n",
        "        img = img / 255\n",
        "        img = np.reshape(img,(1,)+img.shape)\n",
        "        yield img"
      ],
      "execution_count": 0,
      "outputs": []
    },
    {
      "metadata": {
        "id": "noWhzXJ3r_Od",
        "colab_type": "code",
        "colab": {}
      },
      "cell_type": "code",
      "source": [
        "testGene = testGenerator(test_path)\n",
        "# model_predict = unet(pretrained_weights = \"weights_no_val_32.h5\", input_size = (608,608,3))"
      ],
      "execution_count": 0,
      "outputs": []
    },
    {
      "metadata": {
        "id": "9hZnm9T18vEM",
        "colab_type": "code",
        "outputId": "b4891636-9e96-4fc3-87d6-beeb83840d4f",
        "colab": {
          "base_uri": "https://localhost:8080/",
          "height": 34
        }
      },
      "cell_type": "code",
      "source": [
        "result = model.predict_generator(testGene, 50, verbose=1)"
      ],
      "execution_count": 0,
      "outputs": [
        {
          "output_type": "stream",
          "text": [
            "50/50 [==============================] - 39s 779ms/step\n"
          ],
          "name": "stdout"
        }
      ]
    },
    {
      "metadata": {
        "id": "EdSPM5qRr_Oj",
        "colab_type": "code",
        "outputId": "5b9a3b69-acbc-4ce3-b70a-0396b7730237",
        "colab": {
          "base_uri": "https://localhost:8080/",
          "height": 51
        }
      },
      "cell_type": "code",
      "source": [
        "def saveResult(save_path, npyfile):\n",
        "    for i,item in enumerate(npyfile):\n",
        "        img = item[:,:,0]\n",
        "        io.imsave(os.path.join(save_path, \"%d_predict.png\"%(i+1)), img)\n",
        "\n",
        "!rm -rf test\n",
        "!mkdir test        \n",
        "saveResult(\"test\", result)"
      ],
      "execution_count": 0,
      "outputs": [
        {
          "output_type": "stream",
          "text": [
            "/usr/local/lib/python3.6/dist-packages/skimage/util/dtype.py:122: UserWarning: Possible precision loss when converting from float32 to uint16\n",
            "  .format(dtypeobj_in, dtypeobj_out))\n"
          ],
          "name": "stderr"
        }
      ]
    },
    {
      "metadata": {
        "id": "lWlLqIgRr_Ol",
        "colab_type": "code",
        "colab": {}
      },
      "cell_type": "code",
      "source": [
        "import os\n",
        "import numpy as np\n",
        "import matplotlib.image as mpimg\n",
        "import re\n",
        "\n",
        "foreground_threshold = 0.25 # percentage of pixels > 1 required to assign a foreground label to a patch\n",
        "\n",
        "# assign a label to a patch\n",
        "def patch_to_label(patch):\n",
        "    df = np.mean(patch)\n",
        "    if df > foreground_threshold:\n",
        "        return 1\n",
        "    else:\n",
        "        return 0\n",
        "\n",
        "\n",
        "def mask_to_submission_strings(image_filename):\n",
        "    \"\"\"Reads a single image and outputs the strings that should go into the submission file\"\"\"\n",
        "    img_number = int(re.search(r\"\\d+\", image_filename).group(0))\n",
        "    im = mpimg.imread(image_filename)\n",
        "    patch_size = 16\n",
        "    for j in range(0, im.shape[1], patch_size):\n",
        "        for i in range(0, im.shape[0], patch_size):\n",
        "            patch = im[i:i + patch_size, j:j + patch_size]\n",
        "            label = patch_to_label(patch)\n",
        "            yield(\"{:03d}_{}_{},{}\".format(img_number, j, i, label))\n",
        "\n",
        "\n",
        "def masks_to_submission(submission_filename, *image_filenames):\n",
        "    \"\"\"Converts images into a submission file\"\"\"\n",
        "    with open(submission_filename, 'w') as f:\n",
        "        f.write('id,prediction\\n')\n",
        "        for fn in image_filenames[0:]:\n",
        "            f.writelines('{}\\n'.format(s) for s in mask_to_submission_strings(fn))"
      ],
      "execution_count": 0,
      "outputs": []
    },
    {
      "metadata": {
        "id": "Q6u0lzjwr_On",
        "colab_type": "code",
        "colab": {}
      },
      "cell_type": "code",
      "source": [
        "submission_filename = 'submission_64_0.2_elu_dice_train_more.csv'\n",
        "image_filenames = []\n",
        "predict_path = 'test/'\n",
        "for i in range(1, 51):\n",
        "    image_filename = predict_path + '%d' % i + '_predict.png'\n",
        "#     print(image_filename)\n",
        "    image_filenames.append(image_filename)\n",
        "masks_to_submission(submission_filename, *image_filenames)"
      ],
      "execution_count": 0,
      "outputs": []
    },
    {
      "metadata": {
        "id": "BXd0XEiwTpJ9",
        "colab_type": "code",
        "colab": {}
      },
      "cell_type": "code",
      "source": [
        "!cp submission_64_0.2_elu_dice_train_more.csv \"drive/My Drive\""
      ],
      "execution_count": 0,
      "outputs": []
    },
    {
      "metadata": {
        "id": "HAYAadmUqy8S",
        "colab_type": "text"
      },
      "cell_type": "markdown",
      "source": [
        "## Postprocessing"
      ]
    },
    {
      "metadata": {
        "id": "TWjPjN03nbCZ",
        "colab_type": "code",
        "colab": {}
      },
      "cell_type": "code",
      "source": [
        "from skimage.morphology import "
      ],
      "execution_count": 0,
      "outputs": []
    },
    {
      "metadata": {
        "id": "5Q2xqTIxnjOC",
        "colab_type": "code",
        "colab": {}
      },
      "cell_type": "code",
      "source": [
        "im = plt.imread(os.path.join(\"test\", \"%d_predict.png\"%20))\n",
        "im_c = opening(im, square(8))"
      ],
      "execution_count": 0,
      "outputs": []
    },
    {
      "metadata": {
        "id": "c8bTJLnvnqdK",
        "colab_type": "code",
        "outputId": "ca483287-fa00-4378-9c85-b72dae04c493",
        "colab": {
          "base_uri": "https://localhost:8080/",
          "height": 503
        }
      },
      "cell_type": "code",
      "source": [
        "plt.figure(figsize=(8,8))\n",
        "plt.imshow(im_c, 'gray')"
      ],
      "execution_count": 0,
      "outputs": [
        {
          "output_type": "execute_result",
          "data": {
            "text/plain": [
              "<matplotlib.image.AxesImage at 0x7ff45adbba20>"
            ]
          },
          "metadata": {
            "tags": []
          },
          "execution_count": 99
        },
        {
          "output_type": "display_data",
          "data": {
            "image/png": "[encoded data removed]",
            "text/plain": [
              "<matplotlib.figure.Figure at 0x7ff45c487400>"
            ]
          },
          "metadata": {
            "tags": []
          }
        }
      ]
    },
    {
      "metadata": {
        "id": "R6bqSWCCHcGm",
        "colab_type": "code",
        "outputId": "ba44b27f-7065-4a5b-f015-ef43aaa22504",
        "colab": {
          "base_uri": "https://localhost:8080/",
          "height": 51
        }
      },
      "cell_type": "code",
      "source": [
        "!mkdir test_open\n",
        "for i in range(1, 51):\n",
        "    im = plt.imread(os.path.join(\"test\", \"%d_predict.png\"%i))\n",
        "    im_c = opening(im, square(8))\n",
        "    io.imsave(os.path.join(\"test_open\", \"%d_predict.png\"%i), im_c)"
      ],
      "execution_count": 0,
      "outputs": [
        {
          "output_type": "stream",
          "text": [
            "/usr/local/lib/python3.6/dist-packages/skimage/util/dtype.py:122: UserWarning: Possible precision loss when converting from float32 to uint16\n",
            "  .format(dtypeobj_in, dtypeobj_out))\n"
          ],
          "name": "stderr"
        }
      ]
    },
    {
      "metadata": {
        "id": "qwPTq6EjqfqA",
        "colab_type": "code",
        "colab": {}
      },
      "cell_type": "code",
      "source": [
        "submission_filename = 'submission_64_0.2_elu_dice_train_more_open8.csv'\n",
        "image_filenames = []\n",
        "predict_path = 'test_open/'\n",
        "for i in range(1, 51):\n",
        "    image_filename = predict_path + '%d' % i + '_predict.png'\n",
        "#     print(image_filename)\n",
        "    image_filenames.append(image_filename)\n",
        "masks_to_submission(submission_filename, *image_filenames)"
      ],
      "execution_count": 0,
      "outputs": []
    },
    {
      "metadata": {
        "id": "Jwrp8zxtqkhY",
        "colab_type": "code",
        "colab": {}
      },
      "cell_type": "code",
      "source": [
        ""
      ],
      "execution_count": 0,
      "outputs": []
    }
  ]
}